{
 "cells": [
  {
   "cell_type": "code",
   "execution_count": null,
   "id": "555d8d3d",
   "metadata": {},
   "outputs": [
    {
     "name": "stdout",
     "output_type": "stream",
     "text": [
      "Epoch 1/100\n",
      "2250/2250 [==============================] - 7s 2ms/step - loss: 0.4907 - accuracy: 0.7861\n",
      "Epoch 2/100\n",
      "2250/2250 [==============================] - 6s 2ms/step - loss: 0.4489 - accuracy: 0.8121\n",
      "Epoch 3/100\n",
      "2250/2250 [==============================] - 5s 2ms/step - loss: 0.4426 - accuracy: 0.8141\n",
      "Epoch 4/100\n",
      "2250/2250 [==============================] - 5s 2ms/step - loss: 0.4390 - accuracy: 0.8184\n",
      "Epoch 5/100\n",
      "2250/2250 [==============================] - 6s 3ms/step - loss: 0.4359 - accuracy: 0.8193\n",
      "Epoch 6/100\n",
      "1462/2250 [==================>...........] - ETA: 2s - loss: 0.4306 - accuracy: 0.8207"
     ]
    }
   ],
   "source": [
    "# Importing the libraries\n",
    "import numpy as np\n",
    "import matplotlib.pyplot as plt\n",
    "import matplotlib.image as mpimg\n",
    "import pandas as pd\n",
    "from sklearn import datasets\n",
    "from sklearn import metrics\n",
    "\n",
    "#Uploading dataset\n",
    "dataset = pd.read_csv(\"Credit.csv\")\n",
    "X= dataset.iloc[:,:-1].values\n",
    "y= dataset.iloc[:,24].values\n",
    "\n",
    "# Splitting the dataset into the Training set and Test set\n",
    "from sklearn.model_selection import train_test_split\n",
    "X_train, X_test, y_train, y_test = train_test_split(X, y, test_size = 0.25, random_state = 82)\n",
    "\n",
    "# Feature Scaling to bring the variable in a single scale\n",
    "from sklearn.preprocessing import StandardScaler\n",
    "sc = StandardScaler()\n",
    "X_train = sc.fit_transform(X_train)\n",
    "X_test = sc.transform(X_test)\n",
    "\n",
    "#Applying ANN\n",
    "\n",
    "import keras\n",
    "from keras.models import Sequential\n",
    "from keras.layers import Dense\n",
    "\n",
    "classifier = Sequential()\n",
    "\n",
    "classifier.add(Dense(12, activation= 'relu',input_dim=24))\n",
    "\n",
    "classifier.add(Dense(7, activation= 'relu'))\n",
    "\n",
    "classifier.add(Dense(1, activation= 'sigmoid'))\n",
    "\n",
    "\n",
    "classifier.compile(optimizer='adam',loss='binary_crossentropy',metrics=['accuracy'])\n",
    "\n",
    "classifier.fit(X_train, y_train,batch_size=10,epochs=100)\n",
    "\n",
    "#predicting the test set result\n",
    "\n",
    "y_pred=classifier.predict(X_test)\n",
    "y_pred=(y_pred>0.5)\n",
    "\n",
    "# Making the Confusion Matrix\n",
    "from sklearn.metrics import confusion_matrix\n",
    "print(\"Classification Report ANN: \\n\",metrics.classification_report(y_test,y_pred))\n",
    "print(\"Confusion Matrix ANN: \\n\", metrics.confusion_matrix(y_test,y_pred ))\n"
   ]
  },
  {
   "cell_type": "code",
   "execution_count": null,
   "id": "5a3c3134",
   "metadata": {},
   "outputs": [],
   "source": []
  }
 ],
 "metadata": {
  "kernelspec": {
   "display_name": "Python 3 (ipykernel)",
   "language": "python",
   "name": "python3"
  },
  "language_info": {
   "codemirror_mode": {
    "name": "ipython",
    "version": 3
   },
   "file_extension": ".py",
   "mimetype": "text/x-python",
   "name": "python",
   "nbconvert_exporter": "python",
   "pygments_lexer": "ipython3",
   "version": "3.9.13"
  }
 },
 "nbformat": 4,
 "nbformat_minor": 5
}
