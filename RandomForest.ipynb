{
 "cells": [
  {
   "cell_type": "code",
   "execution_count": 2,
   "id": "51c257a5",
   "metadata": {},
   "outputs": [
    {
     "name": "stdout",
     "output_type": "stream",
     "text": [
      "[0 1 0 ... 0 1 1]\n",
      "Model Accuracy Rndom Forest:  0.8222666666666667\n",
      "Classification Report Rndom Forest: \n",
      "               precision    recall  f1-score   support\n",
      "\n",
      "           0       0.84      0.95      0.89      5880\n",
      "           1       0.67      0.35      0.46      1620\n",
      "\n",
      "    accuracy                           0.82      7500\n",
      "   macro avg       0.76      0.65      0.68      7500\n",
      "weighted avg       0.80      0.82      0.80      7500\n",
      "\n",
      "Confusion Matrix Rndom Forest: \n",
      " [[5600  280]\n",
      " [1053  567]]\n"
     ]
    }
   ],
   "source": [
    "# Importing the libraries\n",
    "import numpy as np\n",
    "import matplotlib.pyplot as plt\n",
    "import matplotlib.image as mpimg\n",
    "import pandas as pd\n",
    "from sklearn import datasets\n",
    "from sklearn import metrics\n",
    "\n",
    "#Uploading dataset\n",
    "dataset = pd.read_csv(\"Credit.csv\")\n",
    "X= dataset.iloc[:,:-1].values\n",
    "y= dataset.iloc[:,24].values\n",
    "\n",
    "# Splitting the dataset into the Training set and Test set\n",
    "from sklearn.model_selection import train_test_split\n",
    "X_train, X_test, y_train, y_test = train_test_split(X, y, test_size = 0.25, random_state = 82)\n",
    "\n",
    "# Feature Scaling to bring the variable in a single scale\n",
    "from sklearn.preprocessing import StandardScaler\n",
    "sc = StandardScaler()\n",
    "X_train = sc.fit_transform(X_train)\n",
    "X_test = sc.transform(X_test)\n",
    "\n",
    "#Applying Rndom Forest\n",
    "from sklearn.ensemble import RandomForestClassifier\n",
    "# set model, fit and predict\n",
    "rfc = RandomForestClassifier(max_depth=10, random_state=0)\n",
    "rfc.fit(X_train, y_train)\n",
    "\n",
    "# Predicting the Test set results\n",
    "y_prediction = rfc.predict(X_test)\n",
    "print(y_prediction)\n",
    "\n",
    "#lets see the actual and predicted value side by side\n",
    "y_compare = np.vstack((y_test,y_prediction)).T\n",
    "\n",
    "#actual value on the left side and predicted value on the right hand side\n",
    "#printing the top 5 values\n",
    "y_compare[:5,:]\n",
    "\n",
    "# Making the Confusion Matrix\n",
    "from sklearn.metrics import confusion_matrix\n",
    "from sklearn.metrics import accuracy_score\n",
    "print (\"Model Accuracy Rndom Forest: \", accuracy_score(y_test, y_prediction))\n",
    "print(\"Classification Report Rndom Forest: \\n\", metrics.classification_report(y_test, y_prediction))\n",
    "print(\"Confusion Matrix Rndom Forest: \\n\", metrics.confusion_matrix(y_test, y_prediction))"
   ]
  },
  {
   "cell_type": "code",
   "execution_count": null,
   "id": "663dd8db",
   "metadata": {},
   "outputs": [],
   "source": []
  }
 ],
 "metadata": {
  "kernelspec": {
   "display_name": "Python 3 (ipykernel)",
   "language": "python",
   "name": "python3"
  },
  "language_info": {
   "codemirror_mode": {
    "name": "ipython",
    "version": 3
   },
   "file_extension": ".py",
   "mimetype": "text/x-python",
   "name": "python",
   "nbconvert_exporter": "python",
   "pygments_lexer": "ipython3",
   "version": "3.9.13"
  }
 },
 "nbformat": 4,
 "nbformat_minor": 5
}
